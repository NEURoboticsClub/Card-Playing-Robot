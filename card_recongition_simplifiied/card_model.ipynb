{
 "cells": [
  {
   "cell_type": "code",
   "execution_count": 73,
   "metadata": {},
   "outputs": [],
   "source": [
    "from keras.models import Sequential\n",
    "from keras.layers import Dense, Conv2D, MaxPool2D, Flatten\n",
    "from keras.losses import SparseCategoricalCrossentropy\n",
    "import cv2\n",
    "import os\n",
    "from tqdm import tqdm\n",
    "import numpy as np\n",
    "# import pandas as pd\n",
    "import re"
   ]
  },
  {
   "cell_type": "code",
   "execution_count": 57,
   "metadata": {},
   "outputs": [
    {
     "data": {
      "text/plain": [
       "(52, 52)"
      ]
     },
     "execution_count": 57,
     "metadata": {},
     "output_type": "execute_result"
    }
   ],
   "source": [
    "ranks = ['A', '2', '3', '4', '5', '6', '7', '8', '9', '10', 'J', 'Q', 'K']\n",
    "suits = ['C', 'D', 'H', 'S']\n",
    "\n",
    "\n",
    "cards = [f'{rank}{suit}' for suit in suits for rank in ranks]\n",
    "one_hot_matrix = np.eye(len(cards), dtype=int)\n",
    "\n",
    "one_hot_matrix.shape"
   ]
  },
  {
   "cell_type": "code",
   "execution_count": 58,
   "metadata": {},
   "outputs": [],
   "source": [
    "# pd.DataFrame(one_hot_matrix, index=cards, columns=cards)"
   ]
  },
  {
   "cell_type": "code",
   "execution_count": 59,
   "metadata": {},
   "outputs": [],
   "source": [
    "def card_to_one_hot(card):\n",
    "    if card in cards:\n",
    "        index = cards.index(card)\n",
    "        return one_hot_matrix[index]\n",
    "    else:\n",
    "        raise ValueError(f\"Card '{card}' is not valid. Use format like 'AC' for Ace of Clubs.\")"
   ]
  },
  {
   "cell_type": "code",
   "execution_count": 60,
   "metadata": {},
   "outputs": [],
   "source": [
    "images_paths = list(os.listdir('./Card Images/Preprocessed Images'))"
   ]
  },
  {
   "cell_type": "code",
   "execution_count": 61,
   "metadata": {},
   "outputs": [
    {
     "name": "stderr",
     "output_type": "stream",
     "text": [
      "100%|██████████| 2757/2757 [00:27<00:00, 98.91it/s] \n"
     ]
    }
   ],
   "source": [
    "imgs = []\n",
    "for i in tqdm(images_paths):\n",
    "    if 'JOKER' in i:\n",
    "        continue\n",
    "    imgs.append(cv2.imread(f'./Card Images/Preprocessed Images/{i}'))"
   ]
  },
  {
   "cell_type": "code",
   "execution_count": 62,
   "metadata": {},
   "outputs": [],
   "source": [
    "x = np.array(imgs)"
   ]
  },
  {
   "cell_type": "code",
   "execution_count": 63,
   "metadata": {},
   "outputs": [
    {
     "data": {
      "text/plain": [
       "(2706, 540, 960, 3)"
      ]
     },
     "execution_count": 63,
     "metadata": {},
     "output_type": "execute_result"
    }
   ],
   "source": [
    "x.shape"
   ]
  },
  {
   "cell_type": "code",
   "execution_count": 64,
   "metadata": {},
   "outputs": [],
   "source": [
    "cards_y = []\n",
    "for i in images_paths:\n",
    "    if 'JOKER' in i:\n",
    "        continue\n",
    "    match = re.match(r'^(A|J|K|Q|\\d+)([CSHD])', i)\n",
    "    face = match.group(1)\n",
    "    suit = match.group(2)\n",
    "\n",
    "    cards_y.append(f'{face}{suit}')"
   ]
  },
  {
   "cell_type": "code",
   "execution_count": 65,
   "metadata": {},
   "outputs": [],
   "source": [
    "y = np.array([card_to_one_hot(i) for i in cards_y])"
   ]
  },
  {
   "cell_type": "code",
   "execution_count": 66,
   "metadata": {},
   "outputs": [
    {
     "data": {
      "text/plain": [
       "(2706, 52)"
      ]
     },
     "execution_count": 66,
     "metadata": {},
     "output_type": "execute_result"
    }
   ],
   "source": [
    "y.shape"
   ]
  },
  {
   "cell_type": "code",
   "execution_count": 67,
   "metadata": {},
   "outputs": [],
   "source": [
    "# could try relu or swish"
   ]
  },
  {
   "cell_type": "code",
   "execution_count": 78,
   "metadata": {},
   "outputs": [],
   "source": [
    "model = Sequential()\n",
    "img_size = (540, 960, 3)\n",
    "model.add(Conv2D(input_shape=img_size,filters=64,kernel_size=(3,3),padding='same', activation='swish'))\n",
    "model.add(Conv2D(filters=64,kernel_size=(3,3),padding='same', activation='swish'))\n",
    "model.add(MaxPool2D(pool_size=(2,2),strides=(2,2)))\n",
    "model.add(Conv2D(input_shape=(224, 244),filters=64,kernel_size=(3,3),padding='same', activation='swish')) # may need adjustment\n",
    "model.add(Conv2D(filters=64,kernel_size=(3,3),padding='same', activation='swish'))\n",
    "model.add(MaxPool2D(pool_size=(2,2),strides=(2,2)))\n",
    "model.add(Conv2D(filters=128, kernel_size=(3,3), padding='same', activation='swish'))\n",
    "model.add(Conv2D(filters=128, kernel_size=(3,3), padding='same', activation='swish'))\n",
    "model.add(MaxPool2D(pool_size=(2,2),strides=(2,2)))\n",
    "model.add(Conv2D(filters=256, kernel_size=(3,3), padding='same', activation='swish'))\n",
    "model.add(Conv2D(filters=256, kernel_size=(3,3), padding='same', activation='swish'))\n",
    "model.add(Conv2D(filters=256, kernel_size=(3,3), padding='same', activation='swish'))\n",
    "model.add(MaxPool2D(pool_size=(2,2),strides=(2,2)))\n",
    "model.add(Conv2D(filters=512, kernel_size=(3,3), padding='same', activation='swish'))\n",
    "model.add(Conv2D(filters=512, kernel_size=(3,3), padding='same', activation='swish'))\n",
    "model.add(Conv2D(filters=512, kernel_size=(3,3), padding='same', activation='swish'))\n",
    "model.add(MaxPool2D(pool_size=(2,2),strides=(2,2)))\n",
    "model.add(Conv2D(filters=512, kernel_size=(3,3), padding='same', activation='swish'))\n",
    "model.add(Conv2D(filters=512, kernel_size=(3,3), padding='same', activation='swish'))\n",
    "model.add(Conv2D(filters=512, kernel_size=(3,3), padding='same', activation='swish'))\n",
    "model.add(MaxPool2D(pool_size=(2,2),strides=(2,2)))\n",
    "model.add(Dense(units=256))\n",
    "model.add(Dense(units=52))"
   ]
  },
  {
   "cell_type": "code",
   "execution_count": 79,
   "metadata": {},
   "outputs": [
    {
     "name": "stdout",
     "output_type": "stream",
     "text": [
      "Model: \"sequential_7\"\n",
      "_________________________________________________________________\n",
      " Layer (type)                Output Shape              Param #   \n",
      "=================================================================\n",
      " conv2d_77 (Conv2D)          (None, 540, 960, 64)      1792      \n",
      "                                                                 \n",
      " conv2d_78 (Conv2D)          (None, 540, 960, 64)      36928     \n",
      "                                                                 \n",
      " max_pooling2d_30 (MaxPoolin  (None, 270, 480, 64)     0         \n",
      " g2D)                                                            \n",
      "                                                                 \n",
      " conv2d_79 (Conv2D)          (None, 270, 480, 64)      36928     \n",
      "                                                                 \n",
      " conv2d_80 (Conv2D)          (None, 270, 480, 64)      36928     \n",
      "                                                                 \n",
      " max_pooling2d_31 (MaxPoolin  (None, 135, 240, 64)     0         \n",
      " g2D)                                                            \n",
      "                                                                 \n",
      " conv2d_81 (Conv2D)          (None, 135, 240, 128)     73856     \n",
      "                                                                 \n",
      " conv2d_82 (Conv2D)          (None, 135, 240, 128)     147584    \n",
      "                                                                 \n",
      " max_pooling2d_32 (MaxPoolin  (None, 67, 120, 128)     0         \n",
      " g2D)                                                            \n",
      "                                                                 \n",
      " conv2d_83 (Conv2D)          (None, 67, 120, 256)      295168    \n",
      "                                                                 \n",
      " conv2d_84 (Conv2D)          (None, 67, 120, 256)      590080    \n",
      "                                                                 \n",
      " conv2d_85 (Conv2D)          (None, 67, 120, 256)      590080    \n",
      "                                                                 \n",
      " max_pooling2d_33 (MaxPoolin  (None, 33, 60, 256)      0         \n",
      " g2D)                                                            \n",
      "                                                                 \n",
      " conv2d_86 (Conv2D)          (None, 33, 60, 512)       1180160   \n",
      "                                                                 \n",
      " conv2d_87 (Conv2D)          (None, 33, 60, 512)       2359808   \n",
      "                                                                 \n",
      " conv2d_88 (Conv2D)          (None, 33, 60, 512)       2359808   \n",
      "                                                                 \n",
      " max_pooling2d_34 (MaxPoolin  (None, 16, 30, 512)      0         \n",
      " g2D)                                                            \n",
      "                                                                 \n",
      " conv2d_89 (Conv2D)          (None, 16, 30, 512)       2359808   \n",
      "                                                                 \n",
      " conv2d_90 (Conv2D)          (None, 16, 30, 512)       2359808   \n",
      "                                                                 \n",
      " conv2d_91 (Conv2D)          (None, 16, 30, 512)       2359808   \n",
      "                                                                 \n",
      " max_pooling2d_35 (MaxPoolin  (None, 8, 15, 512)       0         \n",
      " g2D)                                                            \n",
      "                                                                 \n",
      " dense_10 (Dense)            (None, 8, 15, 256)        131328    \n",
      "                                                                 \n",
      " dense_11 (Dense)            (None, 8, 15, 52)         13364     \n",
      "                                                                 \n",
      "=================================================================\n",
      "Total params: 14,933,236\n",
      "Trainable params: 14,933,236\n",
      "Non-trainable params: 0\n",
      "_________________________________________________________________\n"
     ]
    }
   ],
   "source": [
    "model.summary()"
   ]
  },
  {
   "cell_type": "code",
   "execution_count": 80,
   "metadata": {},
   "outputs": [],
   "source": [
    "model.compile(loss=SparseCategoricalCrossentropy())"
   ]
  },
  {
   "cell_type": "code",
   "execution_count": 81,
   "metadata": {},
   "outputs": [
    {
     "ename": "",
     "evalue": "",
     "output_type": "error",
     "traceback": [
      "\u001b[1;31mThe Kernel crashed while executing code in the current cell or a previous cell. \n",
      "\u001b[1;31mPlease review the code in the cell(s) to identify a possible cause of the failure. \n",
      "\u001b[1;31mClick <a href='https://aka.ms/vscodeJupyterKernelCrash'>here</a> for more info. \n",
      "\u001b[1;31mView Jupyter <a href='command:jupyter.viewOutput'>log</a> for further details."
     ]
    }
   ],
   "source": [
    "model.fit(x, y, epochs=1)"
   ]
  },
  {
   "cell_type": "code",
   "execution_count": null,
   "metadata": {},
   "outputs": [],
   "source": []
  }
 ],
 "metadata": {
  "kernelspec": {
   "display_name": "Python 3",
   "language": "python",
   "name": "python3"
  },
  "language_info": {
   "codemirror_mode": {
    "name": "ipython",
    "version": 3
   },
   "file_extension": ".py",
   "mimetype": "text/x-python",
   "name": "python",
   "nbconvert_exporter": "python",
   "pygments_lexer": "ipython3",
   "version": "3.8.10"
  }
 },
 "nbformat": 4,
 "nbformat_minor": 2
}
