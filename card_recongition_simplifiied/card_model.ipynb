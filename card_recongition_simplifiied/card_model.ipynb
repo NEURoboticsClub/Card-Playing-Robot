{
 "cells": [
  {
   "cell_type": "code",
   "execution_count": 41,
   "metadata": {},
   "outputs": [],
   "source": [
    "from keras.models import Sequential\n",
    "from keras.layers import Dense, Conv2D, MaxPool2D, Flatten\n",
    "import cv2\n",
    "import os\n",
    "from tqdm import tqdm\n",
    "import numpy as np\n",
    "# import pandas as pd\n",
    "import re"
   ]
  },
  {
   "cell_type": "code",
   "execution_count": 4,
   "metadata": {},
   "outputs": [],
   "source": [
    "images_paths = list(os.listdir('./Card Images/Preprocessed Images'))"
   ]
  },
  {
   "cell_type": "code",
   "execution_count": 12,
   "metadata": {},
   "outputs": [
    {
     "name": "stderr",
     "output_type": "stream",
     "text": [
      "100%|██████████| 2757/2757 [00:49<00:00, 55.92it/s]\n"
     ]
    }
   ],
   "source": [
    "imgs = []\n",
    "for i in tqdm(images_paths):\n",
    "    imgs.append(cv2.imread(f'./Card Images/Preprocessed Images/{i}'))"
   ]
  },
  {
   "cell_type": "code",
   "execution_count": 15,
   "metadata": {},
   "outputs": [],
   "source": [
    "x = np.array(imgs)"
   ]
  },
  {
   "cell_type": "code",
   "execution_count": 17,
   "metadata": {},
   "outputs": [
    {
     "data": {
      "text/plain": [
       "(2757, 540, 960, 3)"
      ]
     },
     "execution_count": 17,
     "metadata": {},
     "output_type": "execute_result"
    }
   ],
   "source": [
    "x.shape"
   ]
  },
  {
   "cell_type": "code",
   "execution_count": 33,
   "metadata": {},
   "outputs": [],
   "source": [
    "ranks = ['A', '2', '3', '4', '5', '6', '7', '8', '9', '10', 'J', 'Q', 'K']\n",
    "suits = ['C', 'D', 'H', 'S']\n",
    "\n",
    "\n",
    "cards = [f'{rank}{suit}' for suit in suits for rank in ranks]\n",
    "one_hot_matrix = np.eye(len(cards), dtype=int)"
   ]
  },
  {
   "cell_type": "code",
   "execution_count": 35,
   "metadata": {},
   "outputs": [
    {
     "data": {
      "text/plain": [
       "(52, 52)"
      ]
     },
     "execution_count": 35,
     "metadata": {},
     "output_type": "execute_result"
    }
   ],
   "source": [
    "one_hot_matrix.shape"
   ]
  },
  {
   "cell_type": "code",
   "execution_count": 42,
   "metadata": {},
   "outputs": [],
   "source": [
    "def card_to_one_hot(card):\n",
    "    if card in cards:\n",
    "        index = cards.index(card)\n",
    "        return one_hot_matrix[index]\n",
    "    else:\n",
    "        raise ValueError(f\"Card '{card}' is not valid. Use format like 'AC' for Ace of Clubs.\")"
   ]
  },
  {
   "cell_type": "code",
   "execution_count": 49,
   "metadata": {},
   "outputs": [],
   "source": [
    "# pd.DataFrame(one_hot_matrix, index=cards, columns=cards)"
   ]
  },
  {
   "cell_type": "code",
   "execution_count": 43,
   "metadata": {},
   "outputs": [],
   "source": [
    "cards_y = []\n",
    "for i in images_paths[100:]:\n",
    "    if 'JOKER' in i:\n",
    "        continue\n",
    "    match = re.match(r'^(A|J|K|Q|\\d+)([CSHD])', i)\n",
    "    face = match.group(1)\n",
    "    suit = match.group(2)\n",
    "\n",
    "    cards_y.append(f'{face}{suit}')"
   ]
  },
  {
   "cell_type": "code",
   "execution_count": 46,
   "metadata": {},
   "outputs": [],
   "source": [
    "y = np.array([card_to_one_hot(i) for i in cards_y])"
   ]
  },
  {
   "cell_type": "code",
   "execution_count": 48,
   "metadata": {},
   "outputs": [
    {
     "data": {
      "text/plain": [
       "(2606, 52)"
      ]
     },
     "execution_count": 48,
     "metadata": {},
     "output_type": "execute_result"
    }
   ],
   "source": [
    "y.shape"
   ]
  },
  {
   "cell_type": "code",
   "execution_count": null,
   "metadata": {},
   "outputs": [],
   "source": [
    "# could try relu or swish"
   ]
  },
  {
   "cell_type": "code",
   "execution_count": 50,
   "metadata": {},
   "outputs": [],
   "source": [
    "model = Sequential()\n",
    "img_size = (960, 540, 3)\n",
    "model.add(Conv2D(input_shape=img_size,filters=64,kernel_size=(3,3),padding='same', activation='swish'))\n",
    "model.add(Conv2D(filters=64,kernel_size=(3,3),padding='same', activation='swish'))\n",
    "model.add(MaxPool2D(pool_size=(2,2),strides=(2,2)))\n",
    "model.add(Conv2D(input_shape=(224, 244),filters=64,kernel_size=(3,3),padding='same', activation='swish')) # may need adjustment\n",
    "model.add(Conv2D(filters=64,kernel_size=(3,3),padding='same', activation='swish'))\n",
    "model.add(MaxPool2D(pool_size=(2,2),strides=(2,2)))\n",
    "model.add(Conv2D(filters=128, kernel_size=(3,3), padding='same', activation='swish'))\n",
    "model.add(Conv2D(filters=128, kernel_size=(3,3), padding='same', activation='swish'))\n",
    "model.add(MaxPool2D(pool_size=(2,2),strides=(2,2)))\n",
    "model.add(Conv2D(filters=256, kernel_size=(3,3), padding='same', activation='swish'))\n",
    "model.add(Conv2D(filters=256, kernel_size=(3,3), padding='same', activation='swish'))\n",
    "model.add(Conv2D(filters=256, kernel_size=(3,3), padding='same', activation='swish'))\n",
    "model.add(MaxPool2D(pool_size=(2,2),strides=(2,2)))\n",
    "model.add(Conv2D(filters=512, kernel_size=(3,3), padding='same', activation='swish'))\n",
    "model.add(Conv2D(filters=512, kernel_size=(3,3), padding='same', activation='swish'))\n",
    "model.add(Conv2D(filters=512, kernel_size=(3,3), padding='same', activation='swish'))\n",
    "model.add(MaxPool2D(pool_size=(2,2),strides=(2,2)))\n",
    "model.add(Conv2D(filters=512, kernel_size=(3,3), padding='same', activation='swish'))\n",
    "model.add(Conv2D(filters=512, kernel_size=(3,3), padding='same', activation='swish'))\n",
    "model.add(Conv2D(filters=512, kernel_size=(3,3), padding='same', activation='swish'))\n",
    "model.add(MaxPool2D(pool_size=(2,2),strides=(2,2)))\n",
    "model.add(Dense(units=256))\n",
    "model.add(Dense(units=52))"
   ]
  },
  {
   "cell_type": "code",
   "execution_count": 51,
   "metadata": {},
   "outputs": [
    {
     "name": "stdout",
     "output_type": "stream",
     "text": [
      "Model: \"sequential\"\n",
      "_________________________________________________________________\n",
      " Layer (type)                Output Shape              Param #   \n",
      "=================================================================\n",
      " conv2d (Conv2D)             (None, 960, 540, 64)      1792      \n",
      "                                                                 \n",
      " conv2d_1 (Conv2D)           (None, 960, 540, 64)      36928     \n",
      "                                                                 \n",
      " max_pooling2d (MaxPooling2D  (None, 480, 270, 64)     0         \n",
      " )                                                               \n",
      "                                                                 \n",
      " conv2d_2 (Conv2D)           (None, 480, 270, 64)      36928     \n",
      "                                                                 \n",
      " conv2d_3 (Conv2D)           (None, 480, 270, 64)      36928     \n",
      "                                                                 \n",
      " max_pooling2d_1 (MaxPooling  (None, 240, 135, 64)     0         \n",
      " 2D)                                                             \n",
      "                                                                 \n",
      " conv2d_4 (Conv2D)           (None, 240, 135, 128)     73856     \n",
      "                                                                 \n",
      " conv2d_5 (Conv2D)           (None, 240, 135, 128)     147584    \n",
      "                                                                 \n",
      " max_pooling2d_2 (MaxPooling  (None, 120, 67, 128)     0         \n",
      " 2D)                                                             \n",
      "                                                                 \n",
      " conv2d_6 (Conv2D)           (None, 120, 67, 256)      295168    \n",
      "                                                                 \n",
      " conv2d_7 (Conv2D)           (None, 120, 67, 256)      590080    \n",
      "                                                                 \n",
      " conv2d_8 (Conv2D)           (None, 120, 67, 256)      590080    \n",
      "                                                                 \n",
      " max_pooling2d_3 (MaxPooling  (None, 60, 33, 256)      0         \n",
      " 2D)                                                             \n",
      "                                                                 \n",
      " conv2d_9 (Conv2D)           (None, 60, 33, 512)       1180160   \n",
      "                                                                 \n",
      " conv2d_10 (Conv2D)          (None, 60, 33, 512)       2359808   \n",
      "                                                                 \n",
      " conv2d_11 (Conv2D)          (None, 60, 33, 512)       2359808   \n",
      "                                                                 \n",
      " max_pooling2d_4 (MaxPooling  (None, 30, 16, 512)      0         \n",
      " 2D)                                                             \n",
      "                                                                 \n",
      " conv2d_12 (Conv2D)          (None, 30, 16, 512)       2359808   \n",
      "                                                                 \n",
      " conv2d_13 (Conv2D)          (None, 30, 16, 512)       2359808   \n",
      "                                                                 \n",
      " conv2d_14 (Conv2D)          (None, 30, 16, 512)       2359808   \n",
      "                                                                 \n",
      " max_pooling2d_5 (MaxPooling  (None, 15, 8, 512)       0         \n",
      " 2D)                                                             \n",
      "                                                                 \n",
      " dense (Dense)               (None, 15, 8, 52)         26676     \n",
      "                                                                 \n",
      "=================================================================\n",
      "Total params: 14,815,220\n",
      "Trainable params: 14,815,220\n",
      "Non-trainable params: 0\n",
      "_________________________________________________________________\n"
     ]
    }
   ],
   "source": [
    "model.summary()"
   ]
  },
  {
   "cell_type": "code",
   "execution_count": null,
   "metadata": {},
   "outputs": [],
   "source": []
  }
 ],
 "metadata": {
  "kernelspec": {
   "display_name": "Python 3",
   "language": "python",
   "name": "python3"
  },
  "language_info": {
   "codemirror_mode": {
    "name": "ipython",
    "version": 3
   },
   "file_extension": ".py",
   "mimetype": "text/x-python",
   "name": "python",
   "nbconvert_exporter": "python",
   "pygments_lexer": "ipython3",
   "version": "3.8.10"
  }
 },
 "nbformat": 4,
 "nbformat_minor": 2
}
